{
 "cells": [
  {
   "cell_type": "markdown",
   "metadata": {},
   "source": [
    "### Clean Russia2011_1of2"
   ]
  },
  {
   "cell_type": "code",
   "execution_count": 2,
   "metadata": {
    "collapsed": true
   },
   "outputs": [],
   "source": [
    "import csv"
   ]
  },
  {
   "cell_type": "code",
   "execution_count": 1,
   "metadata": {
    "collapsed": false
   },
   "outputs": [],
   "source": [
    "# Remove header \n",
    "with open(\"Russia2011_1of2.csv\", \"r\") as infile:\n",
    "    with open(\"Russia2011_1of2_cleaned.csv\", \"w\") as outfile:\n",
    "        next(infile)\n",
    "        for line in infile:\n",
    "            outfile.write(line)"
   ]
  },
  {
   "cell_type": "markdown",
   "metadata": {
    "collapsed": true
   },
   "source": [
    "### Clean Txt"
   ]
  },
  {
   "cell_type": "code",
   "execution_count": 56,
   "metadata": {
    "collapsed": false
   },
   "outputs": [],
   "source": [
    "def remove(remove_list, string):\n",
    "    for item in remove_list:\n",
    "        string = string.replace(item, \"\")\n",
    "    return string"
   ]
  },
  {
   "cell_type": "code",
   "execution_count": 70,
   "metadata": {
    "collapsed": false
   },
   "outputs": [],
   "source": [
    "import codecs\n",
    "with codecs.open(\"MarkTwain.txt\", \"r\", encoding='utf-8', errors='ignore') as infile:\n",
    "    lines = [line.strip('\\n') for line in infile.readlines()]\n",
    "    lines = [line.strip('\\r').split() for line in lines]\n",
    "    words = [word for sublist in lines for word in sublist]\n",
    "    \n",
    "    remove_item = [\"'s\", \"--\", \"-\", \"'\", \"ly\", \"ed\", \"ing\", \"ness\", \"(\", \")\", \"_\", \";\", \"?\", \"!\", \",\", \":\", \"#\", \"*\",\n",
    "                  '''\"''', \"/\", \".\", \"[\", \"]\", \"$\"]\n",
    "    words = map(lambda word: remove(remove_item, word), words)\n",
    "    words = [w.lower() for w in words if word]\n",
    "    with open(\"CleanedMarkTwain.txt\", \"w\") as outfile:\n",
    "        for word in words:\n",
    "            outfile.write(word + \" \")"
   ]
  },
  {
   "cell_type": "markdown",
   "metadata": {
    "collapsed": true
   },
   "source": [
    "### Clean 12taxData"
   ]
  },
  {
   "cell_type": "code",
   "execution_count": 3,
   "metadata": {
    "collapsed": true
   },
   "outputs": [],
   "source": [
    "# Remove header \n",
    "with open(\"12taxData.csv\", \"r\") as infile:\n",
    "    with open(\"cleaned12taxData.csv\", \"w\") as outfile:\n",
    "        next(infile)\n",
    "        for line in infile:\n",
    "            outfile.write(line)"
   ]
  },
  {
   "cell_type": "code",
   "execution_count": null,
   "metadata": {
    "collapsed": true
   },
   "outputs": [],
   "source": []
  }
 ],
 "metadata": {
  "anaconda-cloud": {},
  "kernelspec": {
   "display_name": "Python [conda root]",
   "language": "python",
   "name": "conda-root-py"
  },
  "language_info": {
   "codemirror_mode": {
    "name": "ipython",
    "version": 3
   },
   "file_extension": ".py",
   "mimetype": "text/x-python",
   "name": "python",
   "nbconvert_exporter": "python",
   "pygments_lexer": "ipython3",
   "version": "3.5.2"
  }
 },
 "nbformat": 4,
 "nbformat_minor": 1
}
