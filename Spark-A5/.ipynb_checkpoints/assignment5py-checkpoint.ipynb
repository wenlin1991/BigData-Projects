{
 "cells": [
  {
   "cell_type": "markdown",
   "metadata": {},
   "source": [
    "### Clean Russia2011_1of2"
   ]
  },
  {
   "cell_type": "code",
   "execution_count": 13,
   "metadata": {
    "collapsed": true
   },
   "outputs": [],
   "source": [
    "# Please use Python 3\n",
    "import csv\n",
    "import os.path"
   ]
  },
  {
   "cell_type": "code",
   "execution_count": 14,
   "metadata": {
    "collapsed": false
   },
   "outputs": [],
   "source": [
    "# Please change the path of the file you want to clean\n",
    "input_path = \"/Users/wenlin/assignment5/ans5_wenlin/EelctionData/Russia2011/\"\n",
    "output_path = \"/Users/wenlin/assignment5/ans5_wenlin/EelctionData/Russia2011/\""
   ]
  },
  {
   "cell_type": "code",
   "execution_count": 15,
   "metadata": {
    "collapsed": false
   },
   "outputs": [],
   "source": [
    "# Remove header \n",
    "#open(os.path.join(input_path, \"Russia2011_1of2.csv\"), \"r\")  \n",
    "with open(os.path.join(input_path, \"Russia2011_1of2.csv\"), \"r\") as infile:\n",
    "    with open(os.path.join(input_path, \"Russia2011_1of2_cleaned.csv\"), \"w\") as outfile:\n",
    "        next(infile)\n",
    "        for line in infile:\n",
    "            outfile.write(line)"
   ]
  },
  {
   "cell_type": "markdown",
   "metadata": {
    "collapsed": true
   },
   "source": [
    "### Clean 12taxData"
   ]
  },
  {
   "cell_type": "code",
   "execution_count": 16,
   "metadata": {
    "collapsed": true
   },
   "outputs": [],
   "source": [
    "# Please change the path of the file you want to clean\n",
    "in_path = \"/Users/wenlin/assignment5/ans5_wenlin/\"\n",
    "out_path = \"/Users/wenlin/assignment5/ans5_wenlin/\""
   ]
  },
  {
   "cell_type": "code",
   "execution_count": 17,
   "metadata": {
    "collapsed": true
   },
   "outputs": [],
   "source": [
    "# Remove header \n",
    "with open(os.path.join(in_path,\"12taxData.csv\"), \"r\") as infile:\n",
    "    with open(os.path.join(out_path,\"cleaned12taxData.csv\"), \"w\") as outfile:\n",
    "        next(infile)\n",
    "        for line in infile:\n",
    "            outfile.write(line)"
   ]
  },
  {
   "cell_type": "code",
   "execution_count": null,
   "metadata": {
    "collapsed": true
   },
   "outputs": [],
   "source": []
  }
 ],
 "metadata": {
  "anaconda-cloud": {},
  "kernelspec": {
   "display_name": "Python [conda root]",
   "language": "python",
   "name": "conda-root-py"
  },
  "language_info": {
   "codemirror_mode": {
    "name": "ipython",
    "version": 3
   },
   "file_extension": ".py",
   "mimetype": "text/x-python",
   "name": "python",
   "nbconvert_exporter": "python",
   "pygments_lexer": "ipython3",
   "version": "3.5.2"
  }
 },
 "nbformat": 4,
 "nbformat_minor": 1
}
